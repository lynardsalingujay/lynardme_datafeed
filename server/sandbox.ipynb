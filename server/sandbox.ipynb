{
 "cells": [
  {
   "cell_type": "code",
   "execution_count": 1,
   "metadata": {},
   "outputs": [],
   "source": [
    "%load_ext autoreload\n",
    "%autoreload 2"
   ]
  },
  {
   "cell_type": "code",
   "execution_count": 3,
   "metadata": {},
   "outputs": [
    {
     "ename": "Exception",
     "evalue": "Exception whilst parsing or saving /home/alex/PycharmProjects/datafeed/features/test_data/reyl_legacy/reyl_transactions_legacy.xlsx |  | Can only use .str accessor with string values!",
     "output_type": "error",
     "traceback": [
      "\u001B[0;31m---------------------------------------------------------------------------\u001B[0m",
      "\u001B[0;31mAttributeError\u001B[0m                            Traceback (most recent call last)",
      "\u001B[0;32m~/PycharmProjects/datafeed/server/data/parse/__init__.py\u001B[0m in \u001B[0;36mparse_and_close\u001B[0;34m(cls, file, save_new, update_existing, exceptions_in_message)\u001B[0m\n\u001B[1;32m     27\u001B[0m             \u001B[0mparser\u001B[0m \u001B[0;34m=\u001B[0m \u001B[0mcls\u001B[0m\u001B[0;34m.\u001B[0m\u001B[0mcreate_parser\u001B[0m\u001B[0;34m(\u001B[0m\u001B[0mfile\u001B[0m\u001B[0;34m)\u001B[0m\u001B[0;34m\u001B[0m\u001B[0;34m\u001B[0m\u001B[0m\n\u001B[0;32m---> 28\u001B[0;31m             \u001B[0mparser\u001B[0m\u001B[0;34m.\u001B[0m\u001B[0mparse\u001B[0m\u001B[0;34m(\u001B[0m\u001B[0;34m)\u001B[0m\u001B[0;34m\u001B[0m\u001B[0;34m\u001B[0m\u001B[0m\n\u001B[0m\u001B[1;32m     29\u001B[0m             \u001B[0mmodels\u001B[0m\u001B[0;34m,\u001B[0m \u001B[0mmessage\u001B[0m \u001B[0;34m=\u001B[0m \u001B[0mparser\u001B[0m\u001B[0;34m.\u001B[0m\u001B[0mmodels\u001B[0m\u001B[0;34m(\u001B[0m\u001B[0mexceptions_in_message\u001B[0m\u001B[0;34m)\u001B[0m\u001B[0;34m\u001B[0m\u001B[0;34m\u001B[0m\u001B[0m\n",
      "\u001B[0;32m~/PycharmProjects/datafeed/server/data/parse/__init__.py\u001B[0m in \u001B[0;36mparse\u001B[0;34m(self)\u001B[0m\n\u001B[1;32m     49\u001B[0m     \u001B[0;32mdef\u001B[0m \u001B[0mparse\u001B[0m\u001B[0;34m(\u001B[0m\u001B[0mself\u001B[0m\u001B[0;34m)\u001B[0m\u001B[0;34m:\u001B[0m\u001B[0;34m\u001B[0m\u001B[0;34m\u001B[0m\u001B[0m\n\u001B[0;32m---> 50\u001B[0;31m         \u001B[0mself\u001B[0m\u001B[0;34m.\u001B[0m\u001B[0mdata\u001B[0m \u001B[0;34m=\u001B[0m \u001B[0mself\u001B[0m\u001B[0;34m.\u001B[0m\u001B[0mparse_contents\u001B[0m\u001B[0;34m(\u001B[0m\u001B[0mself\u001B[0m\u001B[0;34m.\u001B[0m\u001B[0mfile_contents\u001B[0m\u001B[0;34m)\u001B[0m\u001B[0;34m\u001B[0m\u001B[0;34m\u001B[0m\u001B[0m\n\u001B[0m\u001B[1;32m     51\u001B[0m \u001B[0;34m\u001B[0m\u001B[0m\n",
      "\u001B[0;32m~/PycharmProjects/datafeed/server/data/parse/reyl_transactions.py\u001B[0m in \u001B[0;36mparse_contents\u001B[0;34m(raw)\u001B[0m\n\u001B[1;32m    183\u001B[0m \u001B[0;34m\u001B[0m\u001B[0m\n\u001B[0;32m--> 184\u001B[0;31m         \u001B[0mfx_forward_txs\u001B[0m \u001B[0;34m=\u001B[0m \u001B[0mReylTransactionParser\u001B[0m\u001B[0;34m.\u001B[0m\u001B[0mparse_fx_forwards\u001B[0m\u001B[0;34m(\u001B[0m\u001B[0mdf\u001B[0m\u001B[0;34m)\u001B[0m\u001B[0;34m\u001B[0m\u001B[0;34m\u001B[0m\u001B[0m\n\u001B[0m\u001B[1;32m    185\u001B[0m         \u001B[0mfx_spot_txs\u001B[0m \u001B[0;34m=\u001B[0m \u001B[0mReylTransactionParser\u001B[0m\u001B[0;34m.\u001B[0m\u001B[0mparse_fx_spots\u001B[0m\u001B[0;34m(\u001B[0m\u001B[0mdf\u001B[0m\u001B[0;34m)\u001B[0m\u001B[0;34m\u001B[0m\u001B[0;34m\u001B[0m\u001B[0m\n",
      "\u001B[0;32m~/PycharmProjects/datafeed/server/data/parse/reyl_transactions.py\u001B[0m in \u001B[0;36mparse_fx_forwards\u001B[0;34m(cls, df)\u001B[0m\n\u001B[1;32m     52\u001B[0m             \u001B[0mtx\u001B[0m \u001B[0;34m=\u001B[0m \u001B[0mtx\u001B[0m\u001B[0;34m.\u001B[0m\u001B[0mdrop\u001B[0m\u001B[0;34m(\u001B[0m\u001B[0;34m[\u001B[0m\u001B[0;34m'net_price'\u001B[0m\u001B[0;34m,\u001B[0m \u001B[0;34m'direct_commission'\u001B[0m\u001B[0;34m,\u001B[0m \u001B[0;34m'indirect_commission'\u001B[0m\u001B[0;34m]\u001B[0m\u001B[0;34m,\u001B[0m \u001B[0maxis\u001B[0m\u001B[0;34m=\u001B[0m\u001B[0;36m1\u001B[0m\u001B[0;34m)\u001B[0m\u001B[0;34m\u001B[0m\u001B[0;34m\u001B[0m\u001B[0m\n\u001B[0;32m---> 53\u001B[0;31m             \u001B[0mtx\u001B[0m \u001B[0;34m=\u001B[0m \u001B[0mtx\u001B[0m\u001B[0;34m[\u001B[0m\u001B[0mtx\u001B[0m\u001B[0;34m[\u001B[0m\u001B[0;34m'currency'\u001B[0m\u001B[0;34m]\u001B[0m \u001B[0;34m==\u001B[0m \u001B[0mtx\u001B[0m\u001B[0;34m[\u001B[0m\u001B[0;34m'symbol'\u001B[0m\u001B[0;34m]\u001B[0m\u001B[0;34m.\u001B[0m\u001B[0mstr\u001B[0m\u001B[0;34m[\u001B[0m\u001B[0;36m0\u001B[0m\u001B[0;34m:\u001B[0m\u001B[0;36m3\u001B[0m\u001B[0;34m]\u001B[0m\u001B[0;34m]\u001B[0m\u001B[0;34m\u001B[0m\u001B[0;34m\u001B[0m\u001B[0m\n\u001B[0m\u001B[1;32m     54\u001B[0m             \u001B[0mtx\u001B[0m\u001B[0;34m.\u001B[0m\u001B[0mloc\u001B[0m\u001B[0;34m[\u001B[0m\u001B[0;34m:\u001B[0m\u001B[0;34m,\u001B[0m \u001B[0;34m'currency'\u001B[0m\u001B[0;34m]\u001B[0m \u001B[0;34m=\u001B[0m \u001B[0mtx\u001B[0m\u001B[0;34m[\u001B[0m\u001B[0;34m'symbol'\u001B[0m\u001B[0;34m]\u001B[0m\u001B[0;34m.\u001B[0m\u001B[0mstr\u001B[0m\u001B[0;34m[\u001B[0m\u001B[0;36m3\u001B[0m\u001B[0;34m:\u001B[0m\u001B[0;36m6\u001B[0m\u001B[0;34m]\u001B[0m\u001B[0;34m\u001B[0m\u001B[0;34m\u001B[0m\u001B[0m\n",
      "\u001B[0;32m~/PycharmProjects/venvs/datafeed/lib/python3.6/site-packages/pandas/core/generic.py\u001B[0m in \u001B[0;36m__getattr__\u001B[0;34m(self, name)\u001B[0m\n\u001B[1;32m   5174\u001B[0m         ):\n\u001B[0;32m-> 5175\u001B[0;31m             \u001B[0;32mreturn\u001B[0m \u001B[0mobject\u001B[0m\u001B[0;34m.\u001B[0m\u001B[0m__getattribute__\u001B[0m\u001B[0;34m(\u001B[0m\u001B[0mself\u001B[0m\u001B[0;34m,\u001B[0m \u001B[0mname\u001B[0m\u001B[0;34m)\u001B[0m\u001B[0;34m\u001B[0m\u001B[0;34m\u001B[0m\u001B[0m\n\u001B[0m\u001B[1;32m   5176\u001B[0m         \u001B[0;32melse\u001B[0m\u001B[0;34m:\u001B[0m\u001B[0;34m\u001B[0m\u001B[0;34m\u001B[0m\u001B[0m\n",
      "\u001B[0;32m~/PycharmProjects/venvs/datafeed/lib/python3.6/site-packages/pandas/core/accessor.py\u001B[0m in \u001B[0;36m__get__\u001B[0;34m(self, obj, cls)\u001B[0m\n\u001B[1;32m    174\u001B[0m             \u001B[0;32mreturn\u001B[0m \u001B[0mself\u001B[0m\u001B[0;34m.\u001B[0m\u001B[0m_accessor\u001B[0m\u001B[0;34m\u001B[0m\u001B[0;34m\u001B[0m\u001B[0m\n\u001B[0;32m--> 175\u001B[0;31m         \u001B[0maccessor_obj\u001B[0m \u001B[0;34m=\u001B[0m \u001B[0mself\u001B[0m\u001B[0;34m.\u001B[0m\u001B[0m_accessor\u001B[0m\u001B[0;34m(\u001B[0m\u001B[0mobj\u001B[0m\u001B[0;34m)\u001B[0m\u001B[0;34m\u001B[0m\u001B[0;34m\u001B[0m\u001B[0m\n\u001B[0m\u001B[1;32m    176\u001B[0m         \u001B[0;31m# Replace the property with the accessor object. Inspired by:\u001B[0m\u001B[0;34m\u001B[0m\u001B[0;34m\u001B[0m\u001B[0;34m\u001B[0m\u001B[0m\n",
      "\u001B[0;32m~/PycharmProjects/venvs/datafeed/lib/python3.6/site-packages/pandas/core/strings.py\u001B[0m in \u001B[0;36m__init__\u001B[0;34m(self, data)\u001B[0m\n\u001B[1;32m   1916\u001B[0m     \u001B[0;32mdef\u001B[0m \u001B[0m__init__\u001B[0m\u001B[0;34m(\u001B[0m\u001B[0mself\u001B[0m\u001B[0;34m,\u001B[0m \u001B[0mdata\u001B[0m\u001B[0;34m)\u001B[0m\u001B[0;34m:\u001B[0m\u001B[0;34m\u001B[0m\u001B[0;34m\u001B[0m\u001B[0m\n\u001B[0;32m-> 1917\u001B[0;31m         \u001B[0mself\u001B[0m\u001B[0;34m.\u001B[0m\u001B[0m_inferred_dtype\u001B[0m \u001B[0;34m=\u001B[0m \u001B[0mself\u001B[0m\u001B[0;34m.\u001B[0m\u001B[0m_validate\u001B[0m\u001B[0;34m(\u001B[0m\u001B[0mdata\u001B[0m\u001B[0;34m)\u001B[0m\u001B[0;34m\u001B[0m\u001B[0;34m\u001B[0m\u001B[0m\n\u001B[0m\u001B[1;32m   1918\u001B[0m         \u001B[0mself\u001B[0m\u001B[0;34m.\u001B[0m\u001B[0m_is_categorical\u001B[0m \u001B[0;34m=\u001B[0m \u001B[0mis_categorical_dtype\u001B[0m\u001B[0;34m(\u001B[0m\u001B[0mdata\u001B[0m\u001B[0;34m)\u001B[0m\u001B[0;34m\u001B[0m\u001B[0;34m\u001B[0m\u001B[0m\n",
      "\u001B[0;32m~/PycharmProjects/venvs/datafeed/lib/python3.6/site-packages/pandas/core/strings.py\u001B[0m in \u001B[0;36m_validate\u001B[0;34m(data)\u001B[0m\n\u001B[1;32m   1966\u001B[0m         \u001B[0;32mif\u001B[0m \u001B[0minferred_dtype\u001B[0m \u001B[0;32mnot\u001B[0m \u001B[0;32min\u001B[0m \u001B[0mallowed_types\u001B[0m\u001B[0;34m:\u001B[0m\u001B[0;34m\u001B[0m\u001B[0;34m\u001B[0m\u001B[0m\n\u001B[0;32m-> 1967\u001B[0;31m             \u001B[0;32mraise\u001B[0m \u001B[0mAttributeError\u001B[0m\u001B[0;34m(\u001B[0m\u001B[0;34m\"Can only use .str accessor with string \"\u001B[0m \u001B[0;34m\"values!\"\u001B[0m\u001B[0;34m)\u001B[0m\u001B[0;34m\u001B[0m\u001B[0;34m\u001B[0m\u001B[0m\n\u001B[0m\u001B[1;32m   1968\u001B[0m         \u001B[0;32mreturn\u001B[0m \u001B[0minferred_dtype\u001B[0m\u001B[0;34m\u001B[0m\u001B[0;34m\u001B[0m\u001B[0m\n",
      "\u001B[0;31mAttributeError\u001B[0m: Can only use .str accessor with string values!",
      "\nDuring handling of the above exception, another exception occurred:\n",
      "\u001B[0;31mException\u001B[0m                                 Traceback (most recent call last)",
      "\u001B[0;32m<ipython-input-3-a350a7aecc43>\u001B[0m in \u001B[0;36m<module>\u001B[0;34m\u001B[0m\n\u001B[1;32m     11\u001B[0m \u001B[0;34m\u001B[0m\u001B[0m\n\u001B[1;32m     12\u001B[0m     \u001B[0;32mfor\u001B[0m \u001B[0mfile_name\u001B[0m \u001B[0;32min\u001B[0m \u001B[0mtest_files\u001B[0m\u001B[0;34m(\u001B[0m\u001B[0;34m'reyl_legacy'\u001B[0m\u001B[0;34m,\u001B[0m \u001B[0mmask_include\u001B[0m\u001B[0;34m=\u001B[0m\u001B[0;34m'.xlsx'\u001B[0m\u001B[0;34m,\u001B[0m \u001B[0mmask_exclude\u001B[0m\u001B[0;34m=\u001B[0m\u001B[0;34m'#'\u001B[0m\u001B[0;34m)\u001B[0m\u001B[0;34m:\u001B[0m\u001B[0;34m\u001B[0m\u001B[0;34m\u001B[0m\u001B[0m\n\u001B[0;32m---> 13\u001B[0;31m         \u001B[0mFileParser\u001B[0m\u001B[0;34m.\u001B[0m\u001B[0mparse_and_close\u001B[0m\u001B[0;34m(\u001B[0m\u001B[0mfile_name\u001B[0m\u001B[0;34m,\u001B[0m \u001B[0msave_new\u001B[0m\u001B[0;34m=\u001B[0m\u001B[0;32mTrue\u001B[0m\u001B[0;34m,\u001B[0m \u001B[0mupdate_existing\u001B[0m\u001B[0;34m=\u001B[0m\u001B[0;32mTrue\u001B[0m\u001B[0;34m)\u001B[0m\u001B[0;34m\u001B[0m\u001B[0;34m\u001B[0m\u001B[0m\n\u001B[0m\u001B[1;32m     14\u001B[0m     \u001B[0;32mfor\u001B[0m \u001B[0mfile_name\u001B[0m \u001B[0;32min\u001B[0m \u001B[0mtest_files\u001B[0m\u001B[0;34m(\u001B[0m\u001B[0;34m'reyl_legacy'\u001B[0m\u001B[0;34m,\u001B[0m \u001B[0mmask_include\u001B[0m\u001B[0;34m=\u001B[0m\u001B[0;34m'.pdf'\u001B[0m\u001B[0;34m,\u001B[0m \u001B[0mmask_exclude\u001B[0m\u001B[0;34m=\u001B[0m\u001B[0;34m'#'\u001B[0m\u001B[0;34m)\u001B[0m\u001B[0;34m:\u001B[0m\u001B[0;34m\u001B[0m\u001B[0;34m\u001B[0m\u001B[0m\n\u001B[1;32m     15\u001B[0m         \u001B[0mFileParser\u001B[0m\u001B[0;34m.\u001B[0m\u001B[0mparse_and_close\u001B[0m\u001B[0;34m(\u001B[0m\u001B[0mfile_name\u001B[0m\u001B[0;34m,\u001B[0m \u001B[0msave_new\u001B[0m\u001B[0;34m=\u001B[0m\u001B[0;32mTrue\u001B[0m\u001B[0;34m,\u001B[0m \u001B[0mupdate_existing\u001B[0m\u001B[0;34m=\u001B[0m\u001B[0;32mTrue\u001B[0m\u001B[0;34m)\u001B[0m\u001B[0;34m\u001B[0m\u001B[0;34m\u001B[0m\u001B[0m\n",
      "\u001B[0;32m~/PycharmProjects/datafeed/server/data/parse/__init__.py\u001B[0m in \u001B[0;36mparse_and_close\u001B[0;34m(cls, file, save_new, update_existing, exceptions_in_message)\u001B[0m\n\u001B[1;32m     35\u001B[0m             \u001B[0mmessage\u001B[0m \u001B[0;34m=\u001B[0m \u001B[0;34m'Exception whilst parsing or saving '\u001B[0m \u001B[0;34m+\u001B[0m \u001B[0mstr\u001B[0m\u001B[0;34m(\u001B[0m\u001B[0mfile\u001B[0m\u001B[0;34m)\u001B[0m \u001B[0;34m+\u001B[0m \u001B[0;34m' | '\u001B[0m \u001B[0;34m+\u001B[0m \u001B[0mmessage\u001B[0m\u001B[0;34m\u001B[0m\u001B[0;34m\u001B[0m\u001B[0m\n\u001B[1;32m     36\u001B[0m             \u001B[0;32mif\u001B[0m \u001B[0;32mnot\u001B[0m \u001B[0mexceptions_in_message\u001B[0m\u001B[0;34m:\u001B[0m\u001B[0;34m\u001B[0m\u001B[0;34m\u001B[0m\u001B[0m\n\u001B[0;32m---> 37\u001B[0;31m                 \u001B[0;32mraise\u001B[0m \u001B[0mException\u001B[0m\u001B[0;34m(\u001B[0m\u001B[0mmessage\u001B[0m \u001B[0;34m+\u001B[0m \u001B[0;34m' | '\u001B[0m \u001B[0;34m+\u001B[0m \u001B[0mstr\u001B[0m\u001B[0;34m(\u001B[0m\u001B[0me\u001B[0m\u001B[0;34m)\u001B[0m\u001B[0;34m)\u001B[0m\u001B[0;34m\u001B[0m\u001B[0;34m\u001B[0m\u001B[0m\n\u001B[0m\u001B[1;32m     38\u001B[0m         \u001B[0;32mreturn\u001B[0m \u001B[0mmodels\u001B[0m\u001B[0;34m,\u001B[0m \u001B[0mmessage\u001B[0m\u001B[0;34m\u001B[0m\u001B[0;34m\u001B[0m\u001B[0m\n\u001B[1;32m     39\u001B[0m \u001B[0;34m\u001B[0m\u001B[0m\n",
      "\u001B[0;31mException\u001B[0m: Exception whilst parsing or saving /home/alex/PycharmProjects/datafeed/features/test_data/reyl_legacy/reyl_transactions_legacy.xlsx |  | Can only use .str accessor with string values!"
     ]
    }
   ],
   "source": [
    "# from reporting.performance import load_reyl_data\n",
    "# load_reyl_data()"
   ]
  },
  {
   "cell_type": "code",
   "execution_count": 1,
   "outputs": [
    {
     "name": "stdout",
     "output_type": "stream",
     "text": [
      "ENVIRONMENT=DEV, DATABASES={'default': {'ENGINE': 'django.db.backends.sqlite3', 'NAME': 'D:\\\\ShinyCorp\\\\db_dev.sqlite3'}}\n"
     ]
    }
   ],
   "source": [
    "import wsgi\n",
    "from pandas import read_csv, to_datetime\n",
    "from trading.research.mft_backtest import get_query_symbols, get_origin_data_dic, get_bar_price_df, get_restructured_data, \\\n",
    "    add_trading_daytime_cols, create_backtest_df, get_complete_backtest_df, get_txs_pos_dfs, get_pnl_gbp, \\\n",
    "    get_total_daily_pnl, get_perf_matrix\n",
    "from datetime import time"
   ],
   "metadata": {
    "collapsed": false,
    "pycharm": {
     "name": "#%%\n"
    }
   }
  },
  {
   "cell_type": "code",
   "execution_count": 2,
   "outputs": [
    {
     "name": "stderr",
     "output_type": "stream",
     "text": [
      "d:\\virtualenvs\\datafeed\\lib\\site-packages\\django\\db\\models\\fields\\__init__.py:1423: RuntimeWarning: DateTimeField Price.time received a naive datetime (2014-10-01 00:00:00) while time zone support is active.\n",
      "  RuntimeWarning)\n",
      "d:\\virtualenvs\\datafeed\\lib\\site-packages\\django\\db\\models\\fields\\__init__.py:1423: RuntimeWarning: DateTimeField Price.time received a naive datetime (2020-03-01 00:00:00) while time zone support is active.\n",
      "  RuntimeWarning)\n"
     ]
    }
   ],
   "source": [
    "configs = {'opening_signal_threshold': 0.006, 'closing_signal_threshold': -0.006,\n",
    "               'dealing_cutoff_time_london': time(11, 0, 0),\n",
    "               'earliest_trading_time_london': {'TP1 Index': time(10, 55, 0), 'ES1 Index': time(10, 55, 0)},\n",
    "               'minimum_holding_period_days': 10, 'vol_based_thresholds': True, 'open_threshold_factors': [0.00025, 0],\n",
    "               'close_threshold_factors': [-0.00025, 0], 'equity_trade': False, 'start_dt': '2014-10-01',\n",
    "               'end_dt': '2020-03-01', 'geo_settings': {'US': 'ES1 Index'}, 'one_position': True,\n",
    "               'funds': ['JPMUEAA LN Equity', 'HSBAMCA LN Equity']}\n",
    "\n",
    "symbol_dic = get_query_symbols(configs)\n",
    "dic = get_origin_data_dic(symbol_dic, **configs)\n",
    "bar_df = get_bar_price_df(dic, symbol_dic, dic['universe'], **configs)\n",
    "restructured_data = get_restructured_data(bar_df, dic['daily_p'], **configs)\n",
    "data_dic_by_asset = restructured_data[0]\n",
    "daily_price_df = restructured_data[1]\n"
   ],
   "metadata": {
    "collapsed": false,
    "pycharm": {
     "name": "#%%\n"
    }
   }
  },
  {
   "cell_type": "code",
   "execution_count": 3,
   "outputs": [
    {
     "ename": "AttributeError",
     "evalue": "Can only use .str accessor with string values!",
     "output_type": "error",
     "traceback": [
      "\u001B[1;31m---------------------------------------------------------------------------\u001B[0m",
      "\u001B[1;31mAttributeError\u001B[0m                            Traceback (most recent call last)",
      "\u001B[1;32m<ipython-input-3-c8320cc3e588>\u001B[0m in \u001B[0;36m<module>\u001B[1;34m\u001B[0m\n\u001B[0;32m      1\u001B[0m \u001B[0madd_trading_daytime_cols\u001B[0m\u001B[1;33m(\u001B[0m\u001B[0mdata_dic_by_asset\u001B[0m\u001B[1;33m,\u001B[0m \u001B[0msymbol_dic\u001B[0m\u001B[1;33m,\u001B[0m \u001B[1;33m**\u001B[0m\u001B[0mconfigs\u001B[0m\u001B[1;33m)\u001B[0m\u001B[1;33m\u001B[0m\u001B[1;33m\u001B[0m\u001B[0m\n\u001B[0;32m      2\u001B[0m \u001B[0mbacktest_df\u001B[0m \u001B[1;33m=\u001B[0m \u001B[0mcreate_backtest_df\u001B[0m\u001B[1;33m(\u001B[0m\u001B[0mdata_dic_by_asset\u001B[0m\u001B[1;33m,\u001B[0m \u001B[1;33m**\u001B[0m\u001B[0mconfigs\u001B[0m\u001B[1;33m)\u001B[0m\u001B[1;33m\u001B[0m\u001B[1;33m\u001B[0m\u001B[0m\n\u001B[1;32m----> 3\u001B[1;33m \u001B[0mbacktest_df\u001B[0m \u001B[1;33m=\u001B[0m \u001B[0mget_complete_backtest_df\u001B[0m\u001B[1;33m(\u001B[0m\u001B[0mbacktest_df\u001B[0m\u001B[1;33m,\u001B[0m \u001B[0mdic\u001B[0m\u001B[1;33m[\u001B[0m\u001B[1;34m'universe'\u001B[0m\u001B[1;33m]\u001B[0m\u001B[1;33m,\u001B[0m \u001B[1;33m**\u001B[0m\u001B[0mconfigs\u001B[0m\u001B[1;33m)\u001B[0m\u001B[1;33m\u001B[0m\u001B[1;33m\u001B[0m\u001B[0m\n\u001B[0m\u001B[0;32m      4\u001B[0m \u001B[0mtxs_pos_dic\u001B[0m \u001B[1;33m=\u001B[0m \u001B[0mget_txs_pos_dfs\u001B[0m\u001B[1;33m(\u001B[0m\u001B[0mbacktest_df\u001B[0m\u001B[1;33m,\u001B[0m \u001B[0mdaily_price_df\u001B[0m\u001B[1;33m,\u001B[0m \u001B[0mdic\u001B[0m\u001B[1;33m[\u001B[0m\u001B[1;34m'universe'\u001B[0m\u001B[1;33m]\u001B[0m\u001B[1;33m,\u001B[0m \u001B[1;33m**\u001B[0m\u001B[0mconfigs\u001B[0m\u001B[1;33m)\u001B[0m\u001B[1;33m\u001B[0m\u001B[1;33m\u001B[0m\u001B[0m\n\u001B[0;32m      5\u001B[0m \u001B[0mpnl_gbp\u001B[0m \u001B[1;33m=\u001B[0m \u001B[0mget_pnl_gbp\u001B[0m\u001B[1;33m(\u001B[0m\u001B[0mbacktest_df\u001B[0m\u001B[1;33m,\u001B[0m \u001B[0mtxs_pos_dic\u001B[0m\u001B[1;33m,\u001B[0m \u001B[0mdaily_price_df\u001B[0m\u001B[1;33m,\u001B[0m \u001B[0mdic\u001B[0m\u001B[1;33m[\u001B[0m\u001B[1;34m'universe'\u001B[0m\u001B[1;33m]\u001B[0m\u001B[1;33m,\u001B[0m \u001B[1;33m**\u001B[0m\u001B[0mconfigs\u001B[0m\u001B[1;33m)\u001B[0m\u001B[1;33m\u001B[0m\u001B[1;33m\u001B[0m\u001B[0m\n",
      "\u001B[1;32mD:\\PythonProjects\\datafeed\\server\\trading\\research\\mft_backtest.py\u001B[0m in \u001B[0;36mget_complete_backtest_df\u001B[1;34m(bktest_df, universe, **kwargs)\u001B[0m\n\u001B[0;32m    983\u001B[0m     \u001B[0mbktest_df\u001B[0m \u001B[1;33m=\u001B[0m \u001B[0mget_trading_time_backtest_df\u001B[0m\u001B[1;33m(\u001B[0m\u001B[0mbktest_df\u001B[0m\u001B[1;33m)\u001B[0m\u001B[1;33m\u001B[0m\u001B[1;33m\u001B[0m\u001B[0m\n\u001B[0;32m    984\u001B[0m     \u001B[0mappend_txs_signals\u001B[0m\u001B[1;33m(\u001B[0m\u001B[0mbktest_df\u001B[0m\u001B[1;33m,\u001B[0m \u001B[1;33m**\u001B[0m\u001B[0mkwargs\u001B[0m\u001B[1;33m)\u001B[0m\u001B[1;33m\u001B[0m\u001B[1;33m\u001B[0m\u001B[0m\n\u001B[1;32m--> 985\u001B[1;33m     \u001B[0mappend_opn_trade_indicators\u001B[0m\u001B[1;33m(\u001B[0m\u001B[0mbktest_df\u001B[0m\u001B[1;33m,\u001B[0m \u001B[0muniverse\u001B[0m\u001B[1;33m,\u001B[0m \u001B[1;33m**\u001B[0m\u001B[0mkwargs\u001B[0m\u001B[1;33m)\u001B[0m\u001B[1;33m\u001B[0m\u001B[1;33m\u001B[0m\u001B[0m\n\u001B[0m\u001B[0;32m    986\u001B[0m     \u001B[0mappend_hedging_txs\u001B[0m\u001B[1;33m(\u001B[0m\u001B[0mbktest_df\u001B[0m\u001B[1;33m)\u001B[0m\u001B[1;33m\u001B[0m\u001B[1;33m\u001B[0m\u001B[0m\n\u001B[0;32m    987\u001B[0m     \u001B[0mappend_txs_signal_final\u001B[0m\u001B[1;33m(\u001B[0m\u001B[0mbktest_df\u001B[0m\u001B[1;33m,\u001B[0m \u001B[1;33m**\u001B[0m\u001B[0mkwargs\u001B[0m\u001B[1;33m)\u001B[0m\u001B[1;33m\u001B[0m\u001B[1;33m\u001B[0m\u001B[0m\n",
      "\u001B[1;32mD:\\PythonProjects\\datafeed\\server\\trading\\research\\mft_backtest.py\u001B[0m in \u001B[0;36mappend_opn_trade_indicators\u001B[1;34m(bktest_df, universe, geo_settings, **kwargs)\u001B[0m\n\u001B[0;32m    442\u001B[0m     \u001B[0mdf\u001B[0m \u001B[1;33m=\u001B[0m \u001B[0mget_opn_trade_indicator\u001B[0m\u001B[1;33m(\u001B[0m\u001B[0mbktest_df\u001B[0m\u001B[1;33m,\u001B[0m \u001B[0mgeo_settings\u001B[0m\u001B[1;33m)\u001B[0m\u001B[1;33m\u001B[0m\u001B[1;33m\u001B[0m\u001B[0m\n\u001B[0;32m    443\u001B[0m     \u001B[0mbktest_df\u001B[0m\u001B[1;33m.\u001B[0m\u001B[0mloc\u001B[0m\u001B[1;33m[\u001B[0m\u001B[1;33m:\u001B[0m\u001B[1;33m,\u001B[0m \u001B[1;34m'geo_trade_choice'\u001B[0m\u001B[1;33m]\u001B[0m \u001B[1;33m=\u001B[0m \u001B[0mdf\u001B[0m\u001B[1;33m[\u001B[0m\u001B[1;34m'geo_trade_choice'\u001B[0m\u001B[1;33m]\u001B[0m\u001B[1;33m.\u001B[0m\u001B[0mreindex\u001B[0m\u001B[1;33m(\u001B[0m\u001B[0mindex\u001B[0m\u001B[1;33m=\u001B[0m\u001B[0mbktest_df\u001B[0m\u001B[1;33m.\u001B[0m\u001B[0mindex\u001B[0m\u001B[1;33m)\u001B[0m\u001B[1;33m\u001B[0m\u001B[1;33m\u001B[0m\u001B[0m\n\u001B[1;32m--> 444\u001B[1;33m     \u001B[0mbktest_df\u001B[0m\u001B[1;33m.\u001B[0m\u001B[0mloc\u001B[0m\u001B[1;33m[\u001B[0m\u001B[1;33m:\u001B[0m\u001B[1;33m,\u001B[0m \u001B[1;34m'geo_trade_choice'\u001B[0m\u001B[1;33m]\u001B[0m \u001B[1;33m=\u001B[0m \u001B[0mbktest_df\u001B[0m\u001B[1;33m[\u001B[0m\u001B[1;34m'geo_trade_choice'\u001B[0m\u001B[1;33m]\u001B[0m\u001B[1;33m.\u001B[0m\u001B[0mstr\u001B[0m\u001B[1;33m[\u001B[0m\u001B[1;33m:\u001B[0m\u001B[1;36m2\u001B[0m\u001B[1;33m]\u001B[0m\u001B[1;33m\u001B[0m\u001B[1;33m\u001B[0m\u001B[0m\n\u001B[0m\u001B[0;32m    445\u001B[0m     \u001B[0mbktest_df\u001B[0m\u001B[1;33m[\u001B[0m\u001B[1;34m'mapped_fut_contract'\u001B[0m\u001B[1;33m]\u001B[0m \u001B[1;33m=\u001B[0m \u001B[0mbktest_df\u001B[0m\u001B[1;33m[\u001B[0m\u001B[1;34m'geo_trade_choice'\u001B[0m\u001B[1;33m]\u001B[0m\u001B[1;33m.\u001B[0m\u001B[0mmap\u001B[0m\u001B[1;33m(\u001B[0m\u001B[0mgeo_setting\u001B[0m\u001B[1;33m)\u001B[0m\u001B[1;33m\u001B[0m\u001B[1;33m\u001B[0m\u001B[0m\n\u001B[0;32m    446\u001B[0m     \u001B[1;31m# Creating price mask\u001B[0m\u001B[1;33m\u001B[0m\u001B[1;33m\u001B[0m\u001B[1;33m\u001B[0m\u001B[0m\n",
      "\u001B[1;32md:\\virtualenvs\\datafeed\\lib\\site-packages\\pandas\\core\\generic.py\u001B[0m in \u001B[0;36m__getattr__\u001B[1;34m(self, name)\u001B[0m\n\u001B[0;32m   5173\u001B[0m             \u001B[1;32mor\u001B[0m \u001B[0mname\u001B[0m \u001B[1;32min\u001B[0m \u001B[0mself\u001B[0m\u001B[1;33m.\u001B[0m\u001B[0m_accessors\u001B[0m\u001B[1;33m\u001B[0m\u001B[1;33m\u001B[0m\u001B[0m\n\u001B[0;32m   5174\u001B[0m         ):\n\u001B[1;32m-> 5175\u001B[1;33m             \u001B[1;32mreturn\u001B[0m \u001B[0mobject\u001B[0m\u001B[1;33m.\u001B[0m\u001B[0m__getattribute__\u001B[0m\u001B[1;33m(\u001B[0m\u001B[0mself\u001B[0m\u001B[1;33m,\u001B[0m \u001B[0mname\u001B[0m\u001B[1;33m)\u001B[0m\u001B[1;33m\u001B[0m\u001B[1;33m\u001B[0m\u001B[0m\n\u001B[0m\u001B[0;32m   5176\u001B[0m         \u001B[1;32melse\u001B[0m\u001B[1;33m:\u001B[0m\u001B[1;33m\u001B[0m\u001B[1;33m\u001B[0m\u001B[0m\n\u001B[0;32m   5177\u001B[0m             \u001B[1;32mif\u001B[0m \u001B[0mself\u001B[0m\u001B[1;33m.\u001B[0m\u001B[0m_info_axis\u001B[0m\u001B[1;33m.\u001B[0m\u001B[0m_can_hold_identifiers_and_holds_name\u001B[0m\u001B[1;33m(\u001B[0m\u001B[0mname\u001B[0m\u001B[1;33m)\u001B[0m\u001B[1;33m:\u001B[0m\u001B[1;33m\u001B[0m\u001B[1;33m\u001B[0m\u001B[0m\n",
      "\u001B[1;32md:\\virtualenvs\\datafeed\\lib\\site-packages\\pandas\\core\\accessor.py\u001B[0m in \u001B[0;36m__get__\u001B[1;34m(self, obj, cls)\u001B[0m\n\u001B[0;32m    173\u001B[0m             \u001B[1;31m# we're accessing the attribute of the class, i.e., Dataset.geo\u001B[0m\u001B[1;33m\u001B[0m\u001B[1;33m\u001B[0m\u001B[1;33m\u001B[0m\u001B[0m\n\u001B[0;32m    174\u001B[0m             \u001B[1;32mreturn\u001B[0m \u001B[0mself\u001B[0m\u001B[1;33m.\u001B[0m\u001B[0m_accessor\u001B[0m\u001B[1;33m\u001B[0m\u001B[1;33m\u001B[0m\u001B[0m\n\u001B[1;32m--> 175\u001B[1;33m         \u001B[0maccessor_obj\u001B[0m \u001B[1;33m=\u001B[0m \u001B[0mself\u001B[0m\u001B[1;33m.\u001B[0m\u001B[0m_accessor\u001B[0m\u001B[1;33m(\u001B[0m\u001B[0mobj\u001B[0m\u001B[1;33m)\u001B[0m\u001B[1;33m\u001B[0m\u001B[1;33m\u001B[0m\u001B[0m\n\u001B[0m\u001B[0;32m    176\u001B[0m         \u001B[1;31m# Replace the property with the accessor object. Inspired by:\u001B[0m\u001B[1;33m\u001B[0m\u001B[1;33m\u001B[0m\u001B[1;33m\u001B[0m\u001B[0m\n\u001B[0;32m    177\u001B[0m         \u001B[1;31m# http://www.pydanny.com/cached-property.html\u001B[0m\u001B[1;33m\u001B[0m\u001B[1;33m\u001B[0m\u001B[1;33m\u001B[0m\u001B[0m\n",
      "\u001B[1;32md:\\virtualenvs\\datafeed\\lib\\site-packages\\pandas\\core\\strings.py\u001B[0m in \u001B[0;36m__init__\u001B[1;34m(self, data)\u001B[0m\n\u001B[0;32m   1915\u001B[0m \u001B[1;33m\u001B[0m\u001B[0m\n\u001B[0;32m   1916\u001B[0m     \u001B[1;32mdef\u001B[0m \u001B[0m__init__\u001B[0m\u001B[1;33m(\u001B[0m\u001B[0mself\u001B[0m\u001B[1;33m,\u001B[0m \u001B[0mdata\u001B[0m\u001B[1;33m)\u001B[0m\u001B[1;33m:\u001B[0m\u001B[1;33m\u001B[0m\u001B[1;33m\u001B[0m\u001B[0m\n\u001B[1;32m-> 1917\u001B[1;33m         \u001B[0mself\u001B[0m\u001B[1;33m.\u001B[0m\u001B[0m_inferred_dtype\u001B[0m \u001B[1;33m=\u001B[0m \u001B[0mself\u001B[0m\u001B[1;33m.\u001B[0m\u001B[0m_validate\u001B[0m\u001B[1;33m(\u001B[0m\u001B[0mdata\u001B[0m\u001B[1;33m)\u001B[0m\u001B[1;33m\u001B[0m\u001B[1;33m\u001B[0m\u001B[0m\n\u001B[0m\u001B[0;32m   1918\u001B[0m         \u001B[0mself\u001B[0m\u001B[1;33m.\u001B[0m\u001B[0m_is_categorical\u001B[0m \u001B[1;33m=\u001B[0m \u001B[0mis_categorical_dtype\u001B[0m\u001B[1;33m(\u001B[0m\u001B[0mdata\u001B[0m\u001B[1;33m)\u001B[0m\u001B[1;33m\u001B[0m\u001B[1;33m\u001B[0m\u001B[0m\n\u001B[0;32m   1919\u001B[0m \u001B[1;33m\u001B[0m\u001B[0m\n",
      "\u001B[1;32md:\\virtualenvs\\datafeed\\lib\\site-packages\\pandas\\core\\strings.py\u001B[0m in \u001B[0;36m_validate\u001B[1;34m(data)\u001B[0m\n\u001B[0;32m   1965\u001B[0m \u001B[1;33m\u001B[0m\u001B[0m\n\u001B[0;32m   1966\u001B[0m         \u001B[1;32mif\u001B[0m \u001B[0minferred_dtype\u001B[0m \u001B[1;32mnot\u001B[0m \u001B[1;32min\u001B[0m \u001B[0mallowed_types\u001B[0m\u001B[1;33m:\u001B[0m\u001B[1;33m\u001B[0m\u001B[1;33m\u001B[0m\u001B[0m\n\u001B[1;32m-> 1967\u001B[1;33m             \u001B[1;32mraise\u001B[0m \u001B[0mAttributeError\u001B[0m\u001B[1;33m(\u001B[0m\u001B[1;34m\"Can only use .str accessor with string \"\u001B[0m \u001B[1;34m\"values!\"\u001B[0m\u001B[1;33m)\u001B[0m\u001B[1;33m\u001B[0m\u001B[1;33m\u001B[0m\u001B[0m\n\u001B[0m\u001B[0;32m   1968\u001B[0m         \u001B[1;32mreturn\u001B[0m \u001B[0minferred_dtype\u001B[0m\u001B[1;33m\u001B[0m\u001B[1;33m\u001B[0m\u001B[0m\n\u001B[0;32m   1969\u001B[0m \u001B[1;33m\u001B[0m\u001B[0m\n",
      "\u001B[1;31mAttributeError\u001B[0m: Can only use .str accessor with string values!"
     ]
    }
   ],
   "source": [
    "add_trading_daytime_cols(data_dic_by_asset, symbol_dic, **configs)\n",
    "backtest_df = create_backtest_df(data_dic_by_asset, **configs)\n",
    "backtest_df = get_complete_backtest_df(backtest_df, dic['universe'], **configs)\n",
    "txs_pos_dic = get_txs_pos_dfs(backtest_df, daily_price_df, dic['universe'], **configs)\n",
    "pnl_gbp = get_pnl_gbp(backtest_df, txs_pos_dic, daily_price_df, dic['universe'], **configs)\n",
    "total_daily_pnl_gbp = get_total_daily_pnl(pnl_gbp)\n",
    "total_cum_pnl_gbp = total_daily_pnl_gbp.cumsum()\n",
    "total_cum_pnl_gbp.plot(grid=True, figsize=(20, 10))\n",
    "perf_matrix = get_perf_matrix(total_cum_pnl_gbp)"
   ],
   "metadata": {
    "collapsed": false,
    "pycharm": {
     "name": "#%%\n"
    }
   }
  },
  {
   "cell_type": "code",
   "execution_count": 6,
   "outputs": [],
   "source": [],
   "metadata": {
    "collapsed": false,
    "pycharm": {
     "name": "#%%\n"
    }
   }
  },
  {
   "cell_type": "code",
   "execution_count": 9,
   "outputs": [
    {
     "data": {
      "text/plain": "'19:00:00'"
     },
     "execution_count": 9,
     "metadata": {},
     "output_type": "execute_result"
    }
   ],
   "source": [],
   "metadata": {
    "collapsed": false,
    "pycharm": {
     "name": "#%%\n"
    }
   }
  },
  {
   "cell_type": "code",
   "execution_count": 17,
   "outputs": [
    {
     "name": "stderr",
     "output_type": "stream",
     "text": [
      "d:\\virtualenvs\\datafeed\\lib\\site-packages\\django\\db\\models\\fields\\__init__.py:1423: RuntimeWarning: DateTimeField Price.time received a naive datetime (2019-11-20 00:00:00) while time zone support is active.\n",
      "  RuntimeWarning)\n",
      "d:\\virtualenvs\\datafeed\\lib\\site-packages\\django\\db\\models\\fields\\__init__.py:1423: RuntimeWarning: DateTimeField Price.time received a naive datetime (2019-11-19 00:00:00) while time zone support is active.\n",
      "  RuntimeWarning)\n"
     ]
    }
   ],
   "source": [],
   "metadata": {
    "collapsed": false,
    "pycharm": {
     "name": "#%%\n"
    }
   }
  },
  {
   "cell_type": "code",
   "execution_count": 18,
   "outputs": [],
   "source": [],
   "metadata": {
    "collapsed": false,
    "pycharm": {
     "name": "#%%\n"
    }
   }
  },
  {
   "cell_type": "code",
   "execution_count": 2,
   "outputs": [
    {
     "name": "stderr",
     "output_type": "stream",
     "text": [
      "d:\\virtualenvs\\datafeed\\lib\\site-packages\\django\\db\\models\\fields\\__init__.py:1423: RuntimeWarning: DateTimeField Price.time received a naive datetime (2019-05-16 00:00:00) while time zone support is active.\n",
      "  RuntimeWarning)\n",
      "d:\\virtualenvs\\datafeed\\lib\\site-packages\\django\\db\\models\\fields\\__init__.py:1423: RuntimeWarning: DateTimeField Price.time received a naive datetime (2019-06-30 00:00:00) while time zone support is active.\n",
      "  RuntimeWarning)\n",
      "ERROR:root:Internal Python error in the inspect module.\n",
      "Below is the traceback from this internal error.\n",
      "\n"
     ]
    },
    {
     "name": "stdout",
     "output_type": "stream",
     "text": [
      "Traceback (most recent call last):\n",
      "  File \"d:\\virtualenvs\\datafeed\\lib\\site-packages\\IPython\\core\\interactiveshell.py\", line 3331, in run_code\n",
      "    exec(code_obj, self.user_global_ns, self.user_ns)\n",
      "  File \"<ipython-input-2-23f9b0218138>\", line 2, in <module>\n",
      "    '2019-05-16', '2019-06-30', include_holidays=False)\n",
      "  File \"D:\\PythonProjects\\datafeed\\server\\trading\\fund_classifier.py\", line 311, in calculate_fund_classification\n",
      "    fx, fx_time, index_offset, include_holidays)\n",
      "  File \"D:\\PythonProjects\\datafeed\\server\\app\\cache.py\", line 23, in _f\n",
      "    value = f(*args, **kwargs)\n",
      "  File \"D:\\PythonProjects\\datafeed\\server\\trading\\fund_classifier.py\", line 234, in get_prices_for_fund_classifier\n",
      "    p_df_dic = get_sliced_formatted_data(origin_data, start_dt, end_dt, index_offset_days, include_holidays)\n",
      "  File \"D:\\PythonProjects\\datafeed\\server\\trading\\fund_classifier.py\", line 94, in get_sliced_formatted_data\n",
      "    sliced_fx_p = sliced_fx_p.at_time(val_time_london)\n",
      "NameError: name 'val_time_london' is not defined\n",
      "\n",
      "During handling of the above exception, another exception occurred:\n",
      "\n",
      "Traceback (most recent call last):\n",
      "  File \"d:\\virtualenvs\\datafeed\\lib\\site-packages\\IPython\\core\\interactiveshell.py\", line 2044, in showtraceback\n",
      "    stb = value._render_traceback_()\n",
      "AttributeError: 'NameError' object has no attribute '_render_traceback_'\n",
      "\n",
      "During handling of the above exception, another exception occurred:\n",
      "\n",
      "Traceback (most recent call last):\n",
      "  File \"d:\\virtualenvs\\datafeed\\lib\\site-packages\\IPython\\core\\ultratb.py\", line 1148, in get_records\n",
      "    return _fixed_getinnerframes(etb, number_of_lines_of_context, tb_offset)\n",
      "  File \"d:\\virtualenvs\\datafeed\\lib\\site-packages\\IPython\\core\\ultratb.py\", line 316, in wrapped\n",
      "    return f(*args, **kwargs)\n",
      "  File \"d:\\virtualenvs\\datafeed\\lib\\site-packages\\IPython\\core\\ultratb.py\", line 350, in _fixed_getinnerframes\n",
      "    records = fix_frame_records_filenames(inspect.getinnerframes(etb, context))\n",
      "  File \"D:\\Miniconda3\\lib\\inspect.py\", line 1502, in getinnerframes\n",
      "    frameinfo = (tb.tb_frame,) + getframeinfo(tb, context)\n",
      "  File \"D:\\Miniconda3\\lib\\inspect.py\", line 1460, in getframeinfo\n",
      "    filename = getsourcefile(frame) or getfile(frame)\n",
      "  File \"D:\\Miniconda3\\lib\\inspect.py\", line 696, in getsourcefile\n",
      "    if getattr(getmodule(object, filename), '__loader__', None) is not None:\n",
      "  File \"D:\\Miniconda3\\lib\\inspect.py\", line 739, in getmodule\n",
      "    f = getabsfile(module)\n",
      "  File \"D:\\Miniconda3\\lib\\inspect.py\", line 708, in getabsfile\n",
      "    _filename = getsourcefile(object) or getfile(object)\n",
      "  File \"D:\\Miniconda3\\lib\\inspect.py\", line 693, in getsourcefile\n",
      "    if os.path.exists(filename):\n",
      "  File \"D:\\Miniconda3\\lib\\genericpath.py\", line 19, in exists\n",
      "    os.stat(path)\n",
      "KeyboardInterrupt\n"
     ]
    },
    {
     "ename": "NameError",
     "evalue": "name 'val_time_london' is not defined",
     "output_type": "error",
     "traceback": [
      "\u001B[1;31m---------------------------------------------------------------------------\u001B[0m"
     ]
    }
   ],
   "source": [],
   "metadata": {
    "collapsed": false,
    "pycharm": {
     "name": "#%%\n"
    }
   }
  },
  {
   "cell_type": "code",
   "execution_count": 14,
   "outputs": [],
   "source": [],
   "metadata": {
    "collapsed": false,
    "pycharm": {
     "name": "#%%\n"
    }
   }
  },
  {
   "cell_type": "code",
   "execution_count": 12,
   "metadata": {},
   "outputs": [
    {
     "data": {
      "text/plain": "<str_iterator at 0x19c76073d88>"
     },
     "execution_count": 12,
     "metadata": {},
     "output_type": "execute_result"
    }
   ],
   "source": []
  },
  {
   "cell_type": "code",
   "execution_count": 8,
   "outputs": [
    {
     "ename": "TypeError",
     "evalue": "filter() argument after * must be an iterable, not Q",
     "output_type": "error",
     "traceback": [
      "\u001B[1;31m---------------------------------------------------------------------------\u001B[0m",
      "\u001B[1;31mTypeError\u001B[0m                                 Traceback (most recent call last)",
      "\u001B[1;32m<ipython-input-8-1264b73e9970>\u001B[0m in \u001B[0;36m<module>\u001B[1;34m\u001B[0m\n\u001B[1;32m----> 1\u001B[1;33m \u001B[0mtest\u001B[0m \u001B[1;33m=\u001B[0m \u001B[0mPrice\u001B[0m\u001B[1;33m.\u001B[0m\u001B[0mobjects\u001B[0m\u001B[1;33m.\u001B[0m\u001B[0mfilter\u001B[0m\u001B[1;33m(\u001B[0m\u001B[1;33m*\u001B[0m\u001B[0mqs\u001B[0m\u001B[1;33m)\u001B[0m\u001B[1;33m\u001B[0m\u001B[1;33m\u001B[0m\u001B[0m\n\u001B[0m\u001B[0;32m      2\u001B[0m \u001B[1;33m\u001B[0m\u001B[0m\n",
      "\u001B[1;31mTypeError\u001B[0m: filter() argument after * must be an iterable, not Q"
     ]
    }
   ],
   "source": [],
   "metadata": {
    "collapsed": false,
    "pycharm": {
     "name": "#%%\n"
    }
   }
  },
  {
   "cell_type": "code",
   "execution_count": 9,
   "outputs": [],
   "source": [],
   "metadata": {
    "collapsed": false,
    "pycharm": {
     "name": "#%%\n"
    }
   }
  },
  {
   "cell_type": "code",
   "execution_count": 46,
   "metadata": {},
   "outputs": [],
   "source": [
    "\n",
    "from sqlalchemy import create_engine\n",
    "database_url = 'sqlite:///D:\\\\PythonProjects\\\\datafeed\\\\opps\\\\db_dev.sqlite3'\n",
    "\n",
    "db_engine = create_engine(database_url, echo=False)\n",
    "\n",
    "\n"
   ]
  },
  {
   "cell_type": "code",
   "execution_count": 23,
   "outputs": [],
   "source": [
    "from datetime import datetime, timezone\n",
    "\n",
    "def save_portaracqg_data_into_db(txt_file_name, db_engine, asset_type, price_type, source, resolution,\n",
    "                          data_file_path=None, aspects=['open', 'high', 'low', 'close']):\n",
    "    if data_file_path is not None:\n",
    "        txt_file_path = data_file_path + txt_file_name\n",
    "    else:\n",
    "        txt_file_path = txt_file_name\n",
    "    symbol = txt_file_name[:-4]\n",
    "    df = read_csv(txt_file_path, sep=',', header=None, names=['as_of', 'time', 'open', 'high', 'low', 'close', 'volume'])\n",
    "    dt_index = to_datetime(df['as_of'] * 10000 + df['time'], format='%Y%m%d%H%M', utc=True).floor('s')\n",
    "    df['as_of'] = to_datetime('today').floor('d')\n",
    "    df['time'] = dt_index\n",
    "    df['symbol'] = symbol\n",
    "    df['source'] = source\n",
    "    df['resolution'] = resolution\n",
    "    df['asset_type'] = asset_type\n",
    "    df['price_type'] = price_type\n",
    "\n",
    "    for aspect in aspects:\n",
    "        df['value'] = df[aspect]\n",
    "        df['aspect'] = aspect\n",
    "        temp_df = df.drop(['open', 'high', 'low', 'close', 'volume'], axis='columns')\n",
    "    return temp_df\n",
    "        # temp_df.to_sql('api_price', con=db_engine, index=False, if_exists='append')\n",
    "\n",
    "\n",
    "def save_dukescopy_data_into_db(txt_file_name, db_engine, asset_type, price_type, source, resolution,\n",
    "                          data_file_path=None, aspects=['close']):\n",
    "    if data_file_path is not None:\n",
    "        txt_file_path = data_file_path + txt_file_name\n",
    "    else:\n",
    "        txt_file_path = txt_file_name\n",
    "    symbol = txt_file_name[:-8]\n",
    "\n",
    "    dtype = {'open': float, 'high': float, 'low': float, 'close': float, 'volume': float}\n",
    "    df = read_csv(txt_file_path, header=1, names=['as_of', 'open', 'high', 'low', 'close'], dtype=dtype)\n",
    "    df['time'] = to_datetime(df['as_of'], format='%d.%m.%Y %H:%M:%S.000', utc=True).floor('s')\n",
    "    df['as_of'] = to_datetime('today').floor('d')\n",
    "    df['symbol'] = symbol\n",
    "    df['source'] = source\n",
    "    df['resolution'] = resolution\n",
    "    df['asset_type'] = asset_type\n",
    "    df['price_type'] = price_type\n",
    "\n",
    "    for aspect in aspects:\n",
    "        df['value'] = df[aspect]\n",
    "        df['aspect'] = aspect\n",
    "        temp_df = df.drop(['open', 'high', 'low', 'close'], axis='columns')\n",
    "    return temp_df\n",
    "        # temp_df.to_sql('api_price', con=db_engine, index=False, if_exists='append')"
   ],
   "metadata": {
    "collapsed": false,
    "pycharm": {
     "name": "#%%\n"
    }
   }
  },
  {
   "cell_type": "code",
   "execution_count": 12,
   "outputs": [],
   "source": [
    "import os\n",
    "# path = 'D:\\\\ShinyCorp\\\\PortaraCQG 5m bars\\\\Futures\\\\5 Minutes\\\\futures\\\\ESH18 Index.txt'\n",
    "fx_path = 'D:\\\\ShinyCorp\\\\Dukescopy 5m fx bars\\\\GBPJPY Curncy ask.csv'\n",
    "# list_of_fx = os.listdir(fx_path)"
   ],
   "metadata": {
    "collapsed": false,
    "pycharm": {
     "name": "#%%\n"
    }
   }
  },
  {
   "cell_type": "code",
   "execution_count": 49,
   "outputs": [],
   "source": [
    "# for fx in list_of_fx:\n",
    "#     save_dukescopy_data_into_db(fx, db_engine, 'fx_spot', fx[:-4][-3:], 'Dukascopy', '5m', fx_path)"
   ],
   "metadata": {
    "collapsed": false,
    "pycharm": {
     "name": "#%%\n"
    }
   }
  },
  {
   "cell_type": "code",
   "execution_count": 23,
   "outputs": [
    {
     "data": {
      "text/plain": "0        2014-09-05 00:05:00+00:00\n1        2014-09-05 00:10:00+00:00\n2        2014-09-05 00:15:00+00:00\n3        2014-09-05 00:20:00+00:00\n4        2014-09-05 00:25:00+00:00\n                    ...           \n592122   2020-04-21 23:35:00+00:00\n592123   2020-04-21 23:40:00+00:00\n592124   2020-04-21 23:45:00+00:00\n592125   2020-04-21 23:50:00+00:00\n592126   2020-04-21 23:55:00+00:00\nName: time, Length: 592127, dtype: datetime64[ns, UTC]"
     },
     "execution_count": 23,
     "metadata": {},
     "output_type": "execute_result"
    }
   ],
   "source": [],
   "metadata": {
    "collapsed": false,
    "pycharm": {
     "name": "#%%\n"
    }
   }
  },
  {
   "cell_type": "code",
   "execution_count": 24,
   "outputs": [],
   "source": [
    "fx = 'GBPJPY Curncy ask.csv'\n",
    "df = save_dukescopy_data_into_db(fx, 'a', 'fx_spot', fx[:-4][-3:], 'Dukascopy', '5m', 'D:\\\\ShinyCorp\\\\Dukescopy 5m fx bars\\\\')\n"
   ],
   "metadata": {
    "collapsed": false,
    "pycharm": {
     "name": "#%%\n"
    }
   }
  },
  {
   "cell_type": "code",
   "execution_count": 26,
   "outputs": [],
   "source": [],
   "metadata": {
    "collapsed": false,
    "pycharm": {
     "name": "#%%\n"
    }
   }
  },
  {
   "cell_type": "code",
   "execution_count": 20,
   "outputs": [
    {
     "ename": "TypeError",
     "evalue": "data type 'datetime64[s, UTC]' not understood",
     "output_type": "error",
     "traceback": [
      "\u001B[1;31m---------------------------------------------------------------------------\u001B[0m",
      "\u001B[1;31mTypeError\u001B[0m                                 Traceback (most recent call last)",
      "\u001B[1;32md:\\virtualenvs\\datafeed\\lib\\site-packages\\pandas\\core\\dtypes\\common.py\u001B[0m in \u001B[0;36mpandas_dtype\u001B[1;34m(dtype)\u001B[0m\n\u001B[0;32m   2049\u001B[0m     \u001B[1;32mtry\u001B[0m\u001B[1;33m:\u001B[0m\u001B[1;33m\u001B[0m\u001B[1;33m\u001B[0m\u001B[0m\n\u001B[1;32m-> 2050\u001B[1;33m         \u001B[0mnpdtype\u001B[0m \u001B[1;33m=\u001B[0m \u001B[0mnp\u001B[0m\u001B[1;33m.\u001B[0m\u001B[0mdtype\u001B[0m\u001B[1;33m(\u001B[0m\u001B[0mdtype\u001B[0m\u001B[1;33m)\u001B[0m\u001B[1;33m\u001B[0m\u001B[1;33m\u001B[0m\u001B[0m\n\u001B[0m\u001B[0;32m   2051\u001B[0m     \u001B[1;32mexcept\u001B[0m \u001B[0mException\u001B[0m\u001B[1;33m:\u001B[0m\u001B[1;33m\u001B[0m\u001B[1;33m\u001B[0m\u001B[0m\n",
      "\u001B[1;31mTypeError\u001B[0m: Invalid datetime unit in metadata string \"[s, UTC]\"",
      "\nDuring handling of the above exception, another exception occurred:\n",
      "\u001B[1;31mTypeError\u001B[0m                                 Traceback (most recent call last)",
      "\u001B[1;32m<ipython-input-20-7552db8cdb67>\u001B[0m in \u001B[0;36m<module>\u001B[1;34m\u001B[0m\n\u001B[1;32m----> 1\u001B[1;33m \u001B[0mdf\u001B[0m\u001B[1;33m[\u001B[0m\u001B[1;34m'time'\u001B[0m\u001B[1;33m]\u001B[0m\u001B[1;33m.\u001B[0m\u001B[0mastype\u001B[0m\u001B[1;33m(\u001B[0m\u001B[1;34m'datetime64[s, UTC]'\u001B[0m\u001B[1;33m)\u001B[0m\u001B[1;33m\u001B[0m\u001B[1;33m\u001B[0m\u001B[0m\n\u001B[0m\u001B[0;32m      2\u001B[0m \u001B[1;33m\u001B[0m\u001B[0m\n",
      "\u001B[1;32md:\\virtualenvs\\datafeed\\lib\\site-packages\\pandas\\core\\generic.py\u001B[0m in \u001B[0;36mastype\u001B[1;34m(self, dtype, copy, errors, **kwargs)\u001B[0m\n\u001B[0;32m   5880\u001B[0m             \u001B[1;31m# else, only a single dtype is given\u001B[0m\u001B[1;33m\u001B[0m\u001B[1;33m\u001B[0m\u001B[1;33m\u001B[0m\u001B[0m\n\u001B[0;32m   5881\u001B[0m             new_data = self._data.astype(\n\u001B[1;32m-> 5882\u001B[1;33m                 \u001B[0mdtype\u001B[0m\u001B[1;33m=\u001B[0m\u001B[0mdtype\u001B[0m\u001B[1;33m,\u001B[0m \u001B[0mcopy\u001B[0m\u001B[1;33m=\u001B[0m\u001B[0mcopy\u001B[0m\u001B[1;33m,\u001B[0m \u001B[0merrors\u001B[0m\u001B[1;33m=\u001B[0m\u001B[0merrors\u001B[0m\u001B[1;33m,\u001B[0m \u001B[1;33m**\u001B[0m\u001B[0mkwargs\u001B[0m\u001B[1;33m\u001B[0m\u001B[1;33m\u001B[0m\u001B[0m\n\u001B[0m\u001B[0;32m   5883\u001B[0m             )\n\u001B[0;32m   5884\u001B[0m             \u001B[1;32mreturn\u001B[0m \u001B[0mself\u001B[0m\u001B[1;33m.\u001B[0m\u001B[0m_constructor\u001B[0m\u001B[1;33m(\u001B[0m\u001B[0mnew_data\u001B[0m\u001B[1;33m)\u001B[0m\u001B[1;33m.\u001B[0m\u001B[0m__finalize__\u001B[0m\u001B[1;33m(\u001B[0m\u001B[0mself\u001B[0m\u001B[1;33m)\u001B[0m\u001B[1;33m\u001B[0m\u001B[1;33m\u001B[0m\u001B[0m\n",
      "\u001B[1;32md:\\virtualenvs\\datafeed\\lib\\site-packages\\pandas\\core\\internals\\managers.py\u001B[0m in \u001B[0;36mastype\u001B[1;34m(self, dtype, **kwargs)\u001B[0m\n\u001B[0;32m    579\u001B[0m \u001B[1;33m\u001B[0m\u001B[0m\n\u001B[0;32m    580\u001B[0m     \u001B[1;32mdef\u001B[0m \u001B[0mastype\u001B[0m\u001B[1;33m(\u001B[0m\u001B[0mself\u001B[0m\u001B[1;33m,\u001B[0m \u001B[0mdtype\u001B[0m\u001B[1;33m,\u001B[0m \u001B[1;33m**\u001B[0m\u001B[0mkwargs\u001B[0m\u001B[1;33m)\u001B[0m\u001B[1;33m:\u001B[0m\u001B[1;33m\u001B[0m\u001B[1;33m\u001B[0m\u001B[0m\n\u001B[1;32m--> 581\u001B[1;33m         \u001B[1;32mreturn\u001B[0m \u001B[0mself\u001B[0m\u001B[1;33m.\u001B[0m\u001B[0mapply\u001B[0m\u001B[1;33m(\u001B[0m\u001B[1;34m\"astype\"\u001B[0m\u001B[1;33m,\u001B[0m \u001B[0mdtype\u001B[0m\u001B[1;33m=\u001B[0m\u001B[0mdtype\u001B[0m\u001B[1;33m,\u001B[0m \u001B[1;33m**\u001B[0m\u001B[0mkwargs\u001B[0m\u001B[1;33m)\u001B[0m\u001B[1;33m\u001B[0m\u001B[1;33m\u001B[0m\u001B[0m\n\u001B[0m\u001B[0;32m    582\u001B[0m \u001B[1;33m\u001B[0m\u001B[0m\n\u001B[0;32m    583\u001B[0m     \u001B[1;32mdef\u001B[0m \u001B[0mconvert\u001B[0m\u001B[1;33m(\u001B[0m\u001B[0mself\u001B[0m\u001B[1;33m,\u001B[0m \u001B[1;33m**\u001B[0m\u001B[0mkwargs\u001B[0m\u001B[1;33m)\u001B[0m\u001B[1;33m:\u001B[0m\u001B[1;33m\u001B[0m\u001B[1;33m\u001B[0m\u001B[0m\n",
      "\u001B[1;32md:\\virtualenvs\\datafeed\\lib\\site-packages\\pandas\\core\\internals\\managers.py\u001B[0m in \u001B[0;36mapply\u001B[1;34m(self, f, axes, filter, do_integrity_check, consolidate, **kwargs)\u001B[0m\n\u001B[0;32m    436\u001B[0m                     \u001B[0mkwargs\u001B[0m\u001B[1;33m[\u001B[0m\u001B[0mk\u001B[0m\u001B[1;33m]\u001B[0m \u001B[1;33m=\u001B[0m \u001B[0mobj\u001B[0m\u001B[1;33m.\u001B[0m\u001B[0mreindex\u001B[0m\u001B[1;33m(\u001B[0m\u001B[0mb_items\u001B[0m\u001B[1;33m,\u001B[0m \u001B[0maxis\u001B[0m\u001B[1;33m=\u001B[0m\u001B[0maxis\u001B[0m\u001B[1;33m,\u001B[0m \u001B[0mcopy\u001B[0m\u001B[1;33m=\u001B[0m\u001B[0malign_copy\u001B[0m\u001B[1;33m)\u001B[0m\u001B[1;33m\u001B[0m\u001B[1;33m\u001B[0m\u001B[0m\n\u001B[0;32m    437\u001B[0m \u001B[1;33m\u001B[0m\u001B[0m\n\u001B[1;32m--> 438\u001B[1;33m             \u001B[0mapplied\u001B[0m \u001B[1;33m=\u001B[0m \u001B[0mgetattr\u001B[0m\u001B[1;33m(\u001B[0m\u001B[0mb\u001B[0m\u001B[1;33m,\u001B[0m \u001B[0mf\u001B[0m\u001B[1;33m)\u001B[0m\u001B[1;33m(\u001B[0m\u001B[1;33m**\u001B[0m\u001B[0mkwargs\u001B[0m\u001B[1;33m)\u001B[0m\u001B[1;33m\u001B[0m\u001B[1;33m\u001B[0m\u001B[0m\n\u001B[0m\u001B[0;32m    439\u001B[0m             \u001B[0mresult_blocks\u001B[0m \u001B[1;33m=\u001B[0m \u001B[0m_extend_blocks\u001B[0m\u001B[1;33m(\u001B[0m\u001B[0mapplied\u001B[0m\u001B[1;33m,\u001B[0m \u001B[0mresult_blocks\u001B[0m\u001B[1;33m)\u001B[0m\u001B[1;33m\u001B[0m\u001B[1;33m\u001B[0m\u001B[0m\n\u001B[0;32m    440\u001B[0m \u001B[1;33m\u001B[0m\u001B[0m\n",
      "\u001B[1;32md:\\virtualenvs\\datafeed\\lib\\site-packages\\pandas\\core\\internals\\blocks.py\u001B[0m in \u001B[0;36mastype\u001B[1;34m(self, dtype, copy, errors, values, **kwargs)\u001B[0m\n\u001B[0;32m    557\u001B[0m \u001B[1;33m\u001B[0m\u001B[0m\n\u001B[0;32m    558\u001B[0m     \u001B[1;32mdef\u001B[0m \u001B[0mastype\u001B[0m\u001B[1;33m(\u001B[0m\u001B[0mself\u001B[0m\u001B[1;33m,\u001B[0m \u001B[0mdtype\u001B[0m\u001B[1;33m,\u001B[0m \u001B[0mcopy\u001B[0m\u001B[1;33m=\u001B[0m\u001B[1;32mFalse\u001B[0m\u001B[1;33m,\u001B[0m \u001B[0merrors\u001B[0m\u001B[1;33m=\u001B[0m\u001B[1;34m\"raise\"\u001B[0m\u001B[1;33m,\u001B[0m \u001B[0mvalues\u001B[0m\u001B[1;33m=\u001B[0m\u001B[1;32mNone\u001B[0m\u001B[1;33m,\u001B[0m \u001B[1;33m**\u001B[0m\u001B[0mkwargs\u001B[0m\u001B[1;33m)\u001B[0m\u001B[1;33m:\u001B[0m\u001B[1;33m\u001B[0m\u001B[1;33m\u001B[0m\u001B[0m\n\u001B[1;32m--> 559\u001B[1;33m         \u001B[1;32mreturn\u001B[0m \u001B[0mself\u001B[0m\u001B[1;33m.\u001B[0m\u001B[0m_astype\u001B[0m\u001B[1;33m(\u001B[0m\u001B[0mdtype\u001B[0m\u001B[1;33m,\u001B[0m \u001B[0mcopy\u001B[0m\u001B[1;33m=\u001B[0m\u001B[0mcopy\u001B[0m\u001B[1;33m,\u001B[0m \u001B[0merrors\u001B[0m\u001B[1;33m=\u001B[0m\u001B[0merrors\u001B[0m\u001B[1;33m,\u001B[0m \u001B[0mvalues\u001B[0m\u001B[1;33m=\u001B[0m\u001B[0mvalues\u001B[0m\u001B[1;33m,\u001B[0m \u001B[1;33m**\u001B[0m\u001B[0mkwargs\u001B[0m\u001B[1;33m)\u001B[0m\u001B[1;33m\u001B[0m\u001B[1;33m\u001B[0m\u001B[0m\n\u001B[0m\u001B[0;32m    560\u001B[0m \u001B[1;33m\u001B[0m\u001B[0m\n\u001B[0;32m    561\u001B[0m     \u001B[1;32mdef\u001B[0m \u001B[0m_astype\u001B[0m\u001B[1;33m(\u001B[0m\u001B[0mself\u001B[0m\u001B[1;33m,\u001B[0m \u001B[0mdtype\u001B[0m\u001B[1;33m,\u001B[0m \u001B[0mcopy\u001B[0m\u001B[1;33m=\u001B[0m\u001B[1;32mFalse\u001B[0m\u001B[1;33m,\u001B[0m \u001B[0merrors\u001B[0m\u001B[1;33m=\u001B[0m\u001B[1;34m\"raise\"\u001B[0m\u001B[1;33m,\u001B[0m \u001B[0mvalues\u001B[0m\u001B[1;33m=\u001B[0m\u001B[1;32mNone\u001B[0m\u001B[1;33m,\u001B[0m \u001B[1;33m**\u001B[0m\u001B[0mkwargs\u001B[0m\u001B[1;33m)\u001B[0m\u001B[1;33m:\u001B[0m\u001B[1;33m\u001B[0m\u001B[1;33m\u001B[0m\u001B[0m\n",
      "\u001B[1;32md:\\virtualenvs\\datafeed\\lib\\site-packages\\pandas\\core\\internals\\blocks.py\u001B[0m in \u001B[0;36m_astype\u001B[1;34m(self, dtype, **kwargs)\u001B[0m\n\u001B[0;32m   2237\u001B[0m         \u001B[1;32mraise\u001B[0m \u001B[0mon\u001B[0m \u001B[0man\u001B[0m \u001B[1;32mexcept\u001B[0m \u001B[1;32mif\u001B[0m \u001B[1;32mraise\u001B[0m \u001B[1;33m==\u001B[0m \u001B[1;32mTrue\u001B[0m\u001B[1;33m\u001B[0m\u001B[1;33m\u001B[0m\u001B[0m\n\u001B[0;32m   2238\u001B[0m         \"\"\"\n\u001B[1;32m-> 2239\u001B[1;33m         \u001B[0mdtype\u001B[0m \u001B[1;33m=\u001B[0m \u001B[0mpandas_dtype\u001B[0m\u001B[1;33m(\u001B[0m\u001B[0mdtype\u001B[0m\u001B[1;33m)\u001B[0m\u001B[1;33m\u001B[0m\u001B[1;33m\u001B[0m\u001B[0m\n\u001B[0m\u001B[0;32m   2240\u001B[0m \u001B[1;33m\u001B[0m\u001B[0m\n\u001B[0;32m   2241\u001B[0m         \u001B[1;31m# if we are passed a datetime64[ns, tz]\u001B[0m\u001B[1;33m\u001B[0m\u001B[1;33m\u001B[0m\u001B[1;33m\u001B[0m\u001B[0m\n",
      "\u001B[1;32md:\\virtualenvs\\datafeed\\lib\\site-packages\\pandas\\core\\dtypes\\common.py\u001B[0m in \u001B[0;36mpandas_dtype\u001B[1;34m(dtype)\u001B[0m\n\u001B[0;32m   2053\u001B[0m         \u001B[1;32mif\u001B[0m \u001B[1;32mnot\u001B[0m \u001B[0misinstance\u001B[0m\u001B[1;33m(\u001B[0m\u001B[0mdtype\u001B[0m\u001B[1;33m,\u001B[0m \u001B[0mstr\u001B[0m\u001B[1;33m)\u001B[0m\u001B[1;33m:\u001B[0m\u001B[1;33m\u001B[0m\u001B[1;33m\u001B[0m\u001B[0m\n\u001B[0;32m   2054\u001B[0m             \u001B[1;32mraise\u001B[0m \u001B[0mTypeError\u001B[0m\u001B[1;33m(\u001B[0m\u001B[1;34m\"data type not understood\"\u001B[0m\u001B[1;33m)\u001B[0m\u001B[1;33m\u001B[0m\u001B[1;33m\u001B[0m\u001B[0m\n\u001B[1;32m-> 2055\u001B[1;33m         \u001B[1;32mraise\u001B[0m \u001B[0mTypeError\u001B[0m\u001B[1;33m(\u001B[0m\u001B[1;34m\"data type '{}' not understood\"\u001B[0m\u001B[1;33m.\u001B[0m\u001B[0mformat\u001B[0m\u001B[1;33m(\u001B[0m\u001B[0mdtype\u001B[0m\u001B[1;33m)\u001B[0m\u001B[1;33m)\u001B[0m\u001B[1;33m\u001B[0m\u001B[1;33m\u001B[0m\u001B[0m\n\u001B[0m\u001B[0;32m   2056\u001B[0m \u001B[1;33m\u001B[0m\u001B[0m\n\u001B[0;32m   2057\u001B[0m     \u001B[1;31m# Any invalid dtype (such as pd.Timestamp) should raise an error.\u001B[0m\u001B[1;33m\u001B[0m\u001B[1;33m\u001B[0m\u001B[1;33m\u001B[0m\u001B[0m\n",
      "\u001B[1;31mTypeError\u001B[0m: data type 'datetime64[s, UTC]' not understood"
     ]
    }
   ],
   "source": [],
   "metadata": {
    "collapsed": false,
    "pycharm": {
     "name": "#%%\n"
    }
   }
  },
  {
   "cell_type": "code",
   "execution_count": 36,
   "outputs": [
    {
     "data": {
      "text/plain": "'sdfadsfg//ESH18 Index'"
     },
     "execution_count": 36,
     "metadata": {},
     "output_type": "execute_result"
    }
   ],
   "source": [],
   "metadata": {
    "collapsed": false,
    "pycharm": {
     "name": "#%%\n"
    }
   }
  },
  {
   "cell_type": "code",
   "execution_count": 40,
   "outputs": [],
   "source": [],
   "metadata": {
    "collapsed": false,
    "pycharm": {
     "name": "#%%\n"
    }
   }
  },
  {
   "cell_type": "code",
   "execution_count": 39,
   "outputs": [
    {
     "data": {
      "text/plain": "'dfTPX Index'"
     },
     "execution_count": 39,
     "metadata": {},
     "output_type": "execute_result"
    }
   ],
   "source": [],
   "metadata": {
    "collapsed": false,
    "pycharm": {
     "name": "#%%\n"
    }
   }
  },
  {
   "cell_type": "code",
   "execution_count": 43,
   "outputs": [
    {
     "data": {
      "text/plain": "9"
     },
     "execution_count": 43,
     "metadata": {},
     "output_type": "execute_result"
    }
   ],
   "source": [],
   "metadata": {
    "collapsed": false,
    "pycharm": {
     "name": "#%%\n"
    }
   }
  },
  {
   "cell_type": "code",
   "execution_count": 45,
   "outputs": [],
   "source": [],
   "metadata": {
    "collapsed": false,
    "pycharm": {
     "name": "#%%\n"
    }
   }
  },
  {
   "cell_type": "code",
   "execution_count": 46,
   "outputs": [],
   "source": [],
   "metadata": {
    "collapsed": false,
    "pycharm": {
     "name": "#%%\n"
    }
   }
  },
  {
   "cell_type": "code",
   "execution_count": 53,
   "outputs": [],
   "source": [],
   "metadata": {
    "collapsed": false,
    "pycharm": {
     "name": "#%%\n"
    }
   }
  },
  {
   "cell_type": "code",
   "execution_count": 54,
   "outputs": [],
   "source": [],
   "metadata": {
    "collapsed": false,
    "pycharm": {
     "name": "#%%\n"
    }
   }
  },
  {
   "cell_type": "code",
   "execution_count": 55,
   "outputs": [
    {
     "data": {
      "text/plain": "                          as_of                      time  ...    value  aspect\n0     2017-03-13 09:35:00+00:00 2017-03-13 09:35:00+00:00  ...  2361.00    open\n1     2017-03-13 20:10:00+00:00 2017-03-13 20:10:00+00:00  ...  2364.00    open\n2     2017-03-14 20:10:00+00:00 2017-03-14 20:10:00+00:00  ...  2355.50    open\n3     2017-03-15 20:10:00+00:00 2017-03-15 20:10:00+00:00  ...  2372.75    open\n4     2017-03-16 20:10:00+00:00 2017-03-16 20:10:00+00:00  ...  2371.25    open\n...                         ...                       ...  ...      ...     ...\n28996 2018-03-16 13:05:00+00:00 2018-03-16 13:05:00+00:00  ...  1022.00  volume\n28997 2018-03-16 13:10:00+00:00 2018-03-16 13:10:00+00:00  ...   510.00  volume\n28998 2018-03-16 13:15:00+00:00 2018-03-16 13:15:00+00:00  ...   775.00  volume\n28999 2018-03-16 13:20:00+00:00 2018-03-16 13:20:00+00:00  ...   853.00  volume\n29000 2018-03-16 13:25:00+00:00 2018-03-16 13:25:00+00:00  ...   662.00  volume\n\n[145005 rows x 9 columns]",
      "text/html": "<div>\n<style scoped>\n    .dataframe tbody tr th:only-of-type {\n        vertical-align: middle;\n    }\n\n    .dataframe tbody tr th {\n        vertical-align: top;\n    }\n\n    .dataframe thead th {\n        text-align: right;\n    }\n</style>\n<table border=\"1\" class=\"dataframe\">\n  <thead>\n    <tr style=\"text-align: right;\">\n      <th></th>\n      <th>as_of</th>\n      <th>time</th>\n      <th>symbol</th>\n      <th>source</th>\n      <th>resolution</th>\n      <th>asset_type</th>\n      <th>price_type</th>\n      <th>value</th>\n      <th>aspect</th>\n    </tr>\n  </thead>\n  <tbody>\n    <tr>\n      <td>0</td>\n      <td>2017-03-13 09:35:00+00:00</td>\n      <td>2017-03-13 09:35:00+00:00</td>\n      <td>ESH18 Index</td>\n      <td>test</td>\n      <td>5m</td>\n      <td>index_future</td>\n      <td>trade</td>\n      <td>2361.00</td>\n      <td>open</td>\n    </tr>\n    <tr>\n      <td>1</td>\n      <td>2017-03-13 20:10:00+00:00</td>\n      <td>2017-03-13 20:10:00+00:00</td>\n      <td>ESH18 Index</td>\n      <td>test</td>\n      <td>5m</td>\n      <td>index_future</td>\n      <td>trade</td>\n      <td>2364.00</td>\n      <td>open</td>\n    </tr>\n    <tr>\n      <td>2</td>\n      <td>2017-03-14 20:10:00+00:00</td>\n      <td>2017-03-14 20:10:00+00:00</td>\n      <td>ESH18 Index</td>\n      <td>test</td>\n      <td>5m</td>\n      <td>index_future</td>\n      <td>trade</td>\n      <td>2355.50</td>\n      <td>open</td>\n    </tr>\n    <tr>\n      <td>3</td>\n      <td>2017-03-15 20:10:00+00:00</td>\n      <td>2017-03-15 20:10:00+00:00</td>\n      <td>ESH18 Index</td>\n      <td>test</td>\n      <td>5m</td>\n      <td>index_future</td>\n      <td>trade</td>\n      <td>2372.75</td>\n      <td>open</td>\n    </tr>\n    <tr>\n      <td>4</td>\n      <td>2017-03-16 20:10:00+00:00</td>\n      <td>2017-03-16 20:10:00+00:00</td>\n      <td>ESH18 Index</td>\n      <td>test</td>\n      <td>5m</td>\n      <td>index_future</td>\n      <td>trade</td>\n      <td>2371.25</td>\n      <td>open</td>\n    </tr>\n    <tr>\n      <td>...</td>\n      <td>...</td>\n      <td>...</td>\n      <td>...</td>\n      <td>...</td>\n      <td>...</td>\n      <td>...</td>\n      <td>...</td>\n      <td>...</td>\n      <td>...</td>\n    </tr>\n    <tr>\n      <td>28996</td>\n      <td>2018-03-16 13:05:00+00:00</td>\n      <td>2018-03-16 13:05:00+00:00</td>\n      <td>ESH18 Index</td>\n      <td>test</td>\n      <td>5m</td>\n      <td>index_future</td>\n      <td>trade</td>\n      <td>1022.00</td>\n      <td>volume</td>\n    </tr>\n    <tr>\n      <td>28997</td>\n      <td>2018-03-16 13:10:00+00:00</td>\n      <td>2018-03-16 13:10:00+00:00</td>\n      <td>ESH18 Index</td>\n      <td>test</td>\n      <td>5m</td>\n      <td>index_future</td>\n      <td>trade</td>\n      <td>510.00</td>\n      <td>volume</td>\n    </tr>\n    <tr>\n      <td>28998</td>\n      <td>2018-03-16 13:15:00+00:00</td>\n      <td>2018-03-16 13:15:00+00:00</td>\n      <td>ESH18 Index</td>\n      <td>test</td>\n      <td>5m</td>\n      <td>index_future</td>\n      <td>trade</td>\n      <td>775.00</td>\n      <td>volume</td>\n    </tr>\n    <tr>\n      <td>28999</td>\n      <td>2018-03-16 13:20:00+00:00</td>\n      <td>2018-03-16 13:20:00+00:00</td>\n      <td>ESH18 Index</td>\n      <td>test</td>\n      <td>5m</td>\n      <td>index_future</td>\n      <td>trade</td>\n      <td>853.00</td>\n      <td>volume</td>\n    </tr>\n    <tr>\n      <td>29000</td>\n      <td>2018-03-16 13:25:00+00:00</td>\n      <td>2018-03-16 13:25:00+00:00</td>\n      <td>ESH18 Index</td>\n      <td>test</td>\n      <td>5m</td>\n      <td>index_future</td>\n      <td>trade</td>\n      <td>662.00</td>\n      <td>volume</td>\n    </tr>\n  </tbody>\n</table>\n<p>145005 rows × 9 columns</p>\n</div>"
     },
     "execution_count": 55,
     "metadata": {},
     "output_type": "execute_result"
    }
   ],
   "source": [],
   "metadata": {
    "collapsed": false,
    "pycharm": {
     "name": "#%%\n"
    }
   }
  },
  {
   "cell_type": "code",
   "execution_count": null,
   "outputs": [],
   "source": [
    "\n"
   ],
   "metadata": {
    "collapsed": false,
    "pycharm": {
     "name": "#%%\n"
    }
   }
  }
 ],
 "metadata": {
  "kernelspec": {
   "display_name": "Python 3",
   "language": "python",
   "name": "python3"
  },
  "language_info": {
   "codemirror_mode": {
    "name": "ipython",
    "version": 3
   },
   "file_extension": ".py",
   "mimetype": "text/x-python",
   "name": "python",
   "nbconvert_exporter": "python",
   "pygments_lexer": "ipython3",
   "version": "3.6.8"
  }
 },
 "nbformat": 4,
 "nbformat_minor": 2
}